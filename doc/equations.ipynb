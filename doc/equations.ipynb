{
 "cells": [
  {
   "cell_type": "markdown",
   "id": "fefe0e07",
   "metadata": {},
   "source": [
    "$\\mbox{sgn} (s \\cdot k) \\left | \\frac{s \\cdot k}{( \\Vert s \\Vert + q)  \\Vert k \\Vert } \\right | ^ p$"
   ]
  },
  {
   "cell_type": "markdown",
   "id": "74ca3532",
   "metadata": {},
   "source": [
    "$\\mbox{sgn} (s \\cdot k) \\left | \\frac{s \\cdot k}{\\Vert s \\Vert  \\Vert k \\Vert } \\right | ^ p$"
   ]
  },
  {
   "cell_type": "markdown",
   "id": "2b383ff7",
   "metadata": {},
   "source": [
    "$\\frac{s \\cdot k}{\\Vert s \\Vert  \\Vert k \\Vert } $"
   ]
  },
  {
   "cell_type": "markdown",
   "id": "db9d288f",
   "metadata": {},
   "source": [
    "$ s \\cdot k $"
   ]
  },
  {
   "cell_type": "code",
   "execution_count": null,
   "id": "9636b6a6",
   "metadata": {},
   "outputs": [],
   "source": []
  }
 ],
 "metadata": {
  "kernelspec": {
   "display_name": "Python 3 (ipykernel)",
   "language": "python",
   "name": "python3"
  },
  "language_info": {
   "codemirror_mode": {
    "name": "ipython",
    "version": 3
   },
   "file_extension": ".py",
   "mimetype": "text/x-python",
   "name": "python",
   "nbconvert_exporter": "python",
   "pygments_lexer": "ipython3",
   "version": "3.8.10"
  }
 },
 "nbformat": 4,
 "nbformat_minor": 5
}
